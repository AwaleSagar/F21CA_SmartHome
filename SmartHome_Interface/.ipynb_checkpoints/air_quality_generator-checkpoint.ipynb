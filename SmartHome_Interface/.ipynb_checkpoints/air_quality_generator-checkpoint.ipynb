{
 "cells": [
  {
   "cell_type": "markdown",
   "metadata": {
    "toc": true
   },
   "source": [
    "<h1>Table of Contents<span class=\"tocSkip\"></span></h1>\n",
    "<div class=\"toc\"><ul class=\"toc-item\"><li><span><a href=\"#Data-Exploration\" data-toc-modified-id=\"Data-Exploration-1\"><span class=\"toc-item-num\">1&nbsp;&nbsp;</span>Data Exploration</a></span></li><li><span><a href=\"#Creating-data-for-time-series-prediction\" data-toc-modified-id=\"Creating-data-for-time-series-prediction-2\"><span class=\"toc-item-num\">2&nbsp;&nbsp;</span>Creating data for time series prediction</a></span><ul class=\"toc-item\"><li><span><a href=\"#Creating-the-y_true-fields-for-each-air-quality-metric\" data-toc-modified-id=\"Creating-the-y_true-fields-for-each-air-quality-metric-2.1\"><span class=\"toc-item-num\">2.1&nbsp;&nbsp;</span>Creating the y_true fields for each air quality metric</a></span></li><li><span><a href=\"#Creating-the-models\" data-toc-modified-id=\"Creating-the-models-2.2\"><span class=\"toc-item-num\">2.2&nbsp;&nbsp;</span>Creating the models</a></span></li><li><span><a href=\"#Test-performance-of-these-regressor-on-the-train-data\" data-toc-modified-id=\"Test-performance-of-these-regressor-on-the-train-data-2.3\"><span class=\"toc-item-num\">2.3&nbsp;&nbsp;</span>Test performance of these regressor on the train data</a></span></li></ul></li><li><span><a href=\"#Generalizing-model-to-5-years-of-data-to-predict\" data-toc-modified-id=\"Generalizing-model-to-5-years-of-data-to-predict-3\"><span class=\"toc-item-num\">3&nbsp;&nbsp;</span>Generalizing model to 5 years of data to predict</a></span><ul class=\"toc-item\"><li><span><a href=\"#Making-predictions-for-each-air-quality-criteria\" data-toc-modified-id=\"Making-predictions-for-each-air-quality-criteria-3.1\"><span class=\"toc-item-num\">3.1&nbsp;&nbsp;</span>Making predictions for each air quality criteria</a></span></li><li><span><a href=\"#Saving-predicted-data\" data-toc-modified-id=\"Saving-predicted-data-3.2\"><span class=\"toc-item-num\">3.2&nbsp;&nbsp;</span>Saving predicted data</a></span></li></ul></li></ul></div>"
   ]
  },
  {
   "cell_type": "code",
   "execution_count": 89,
   "metadata": {},
   "outputs": [],
   "source": [
    "import pandas as pd\n",
    "import numpy as np\n",
    "from datetime import datetime, timedelta\n",
    "import seaborn as sns\n",
    "import matplotlib.pyplot as plt\n",
    "from sklearn.neural_network import MLPRegressor\n",
    "from sklearn.ensemble import RandomForestRegressor\n",
    "from sklearn.metrics import mean_squared_error\n",
    "\n",
    "# We load all the appliances\n",
    "air_quality = pd.read_csv(\"Data_Files/air_quality/original_air_quality.csv\")"
   ]
  },
  {
   "cell_type": "markdown",
   "metadata": {},
   "source": [
    "# Data Exploration"
   ]
  },
  {
   "cell_type": "code",
   "execution_count": 90,
   "metadata": {},
   "outputs": [
    {
     "data": {
      "text/html": [
       "<div>\n",
       "<style scoped>\n",
       "    .dataframe tbody tr th:only-of-type {\n",
       "        vertical-align: middle;\n",
       "    }\n",
       "\n",
       "    .dataframe tbody tr th {\n",
       "        vertical-align: top;\n",
       "    }\n",
       "\n",
       "    .dataframe thead th {\n",
       "        text-align: right;\n",
       "    }\n",
       "</style>\n",
       "<table border=\"1\" class=\"dataframe\">\n",
       "  <thead>\n",
       "    <tr style=\"text-align: right;\">\n",
       "      <th></th>\n",
       "      <th>date</th>\n",
       "      <th>pm25</th>\n",
       "      <th>pm10</th>\n",
       "      <th>o3</th>\n",
       "      <th>no2</th>\n",
       "      <th>3so2</th>\n",
       "      <th>co</th>\n",
       "    </tr>\n",
       "  </thead>\n",
       "  <tbody>\n",
       "    <tr>\n",
       "      <th>0</th>\n",
       "      <td>02/02/2020</td>\n",
       "      <td>15</td>\n",
       "      <td>5</td>\n",
       "      <td>25</td>\n",
       "      <td>7</td>\n",
       "      <td>3</td>\n",
       "      <td>3</td>\n",
       "    </tr>\n",
       "    <tr>\n",
       "      <th>1</th>\n",
       "      <td>03/02/2020</td>\n",
       "      <td>13</td>\n",
       "      <td>9</td>\n",
       "      <td>28</td>\n",
       "      <td>5</td>\n",
       "      <td>3</td>\n",
       "      <td>3</td>\n",
       "    </tr>\n",
       "    <tr>\n",
       "      <th>2</th>\n",
       "      <td>04/02/2020</td>\n",
       "      <td>22</td>\n",
       "      <td>10</td>\n",
       "      <td>26</td>\n",
       "      <td>14</td>\n",
       "      <td>4</td>\n",
       "      <td>1</td>\n",
       "    </tr>\n",
       "    <tr>\n",
       "      <th>3</th>\n",
       "      <td>05/02/2020</td>\n",
       "      <td>21</td>\n",
       "      <td>11</td>\n",
       "      <td>22</td>\n",
       "      <td>9</td>\n",
       "      <td>3</td>\n",
       "      <td>1</td>\n",
       "    </tr>\n",
       "    <tr>\n",
       "      <th>4</th>\n",
       "      <td>06/02/2020</td>\n",
       "      <td>24</td>\n",
       "      <td>13</td>\n",
       "      <td>19</td>\n",
       "      <td>10</td>\n",
       "      <td>2</td>\n",
       "      <td>1</td>\n",
       "    </tr>\n",
       "  </tbody>\n",
       "</table>\n",
       "</div>"
      ],
      "text/plain": [
       "         date   pm25   pm10   o3   no2  3so2   co\n",
       "0  02/02/2020     15      5   25     7     3    3\n",
       "1  03/02/2020     13      9   28     5     3    3\n",
       "2  04/02/2020     22     10   26    14     4    1\n",
       "3  05/02/2020     21     11   22     9     3    1\n",
       "4  06/02/2020     24     13   19    10     2    1"
      ]
     },
     "execution_count": 90,
     "metadata": {},
     "output_type": "execute_result"
    }
   ],
   "source": [
    "air_quality.head()"
   ]
  },
  {
   "cell_type": "markdown",
   "metadata": {},
   "source": [
    "# Creating data for time series prediction\n",
    "\n",
    "We first split the date into 3 field: day, month and year (to which we remove 2015 to have similar scale with the other fields)"
   ]
  },
  {
   "cell_type": "code",
   "execution_count": 105,
   "metadata": {},
   "outputs": [],
   "source": [
    "x = []\n",
    "\n",
    "for val in air_quality[\"date\"].to_numpy():\n",
    "    \n",
    "    splitted_date = val.split(\"/\")\n",
    "    \n",
    "    x.append(\n",
    "        [int(splitted_date[0]), int(splitted_date[1]), int(splitted_date[2])-2015]\n",
    "    )\n",
    "    "
   ]
  },
  {
   "cell_type": "code",
   "execution_count": 92,
   "metadata": {},
   "outputs": [
    {
     "data": {
      "text/plain": [
       "Index(['date', ' pm25', ' pm10', ' o3', ' no2', '3so2', ' co'], dtype='object')"
      ]
     },
     "execution_count": 92,
     "metadata": {},
     "output_type": "execute_result"
    }
   ],
   "source": [
    "air_quality.columns"
   ]
  },
  {
   "cell_type": "markdown",
   "metadata": {},
   "source": [
    "## Creating the y_true fields for each air quality metric"
   ]
  },
  {
   "cell_type": "code",
   "execution_count": 93,
   "metadata": {},
   "outputs": [],
   "source": [
    "y_pm25 = air_quality[\" pm25\"].to_numpy()\n",
    "y_pm10 = air_quality[\" pm10\"].to_numpy()\n",
    "y_o3 = air_quality[\" o3\"].to_numpy()\n",
    "y_no2 = air_quality[\" no2\"].to_numpy()\n",
    "y_3so2 = air_quality[\"3so2\"].to_numpy()\n",
    "y_co = air_quality[\" co\"].to_numpy()"
   ]
  },
  {
   "cell_type": "markdown",
   "metadata": {},
   "source": [
    "## Creating the models \n",
    "Note that we use multiple unimodal regressor, we could study a multimodal solution"
   ]
  },
  {
   "cell_type": "code",
   "execution_count": 95,
   "metadata": {},
   "outputs": [
    {
     "data": {
      "text/plain": [
       "RandomForestRegressor(bootstrap=True, ccp_alpha=0.0, criterion='mse',\n",
       "                      max_depth=None, max_features='auto', max_leaf_nodes=None,\n",
       "                      max_samples=None, min_impurity_decrease=0.0,\n",
       "                      min_impurity_split=None, min_samples_leaf=1,\n",
       "                      min_samples_split=2, min_weight_fraction_leaf=0.0,\n",
       "                      n_estimators=100, n_jobs=None, oob_score=False,\n",
       "                      random_state=None, verbose=0, warm_start=False)"
      ]
     },
     "execution_count": 95,
     "metadata": {},
     "output_type": "execute_result"
    }
   ],
   "source": [
    "pm25 = RandomForestRegressor()\n",
    "pm25.fit(x, y_pm25)\n",
    "pm10 = RandomForestRegressor()\n",
    "pm10.fit(x, y_pm10)\n",
    "o3 = RandomForestRegressor()\n",
    "o3.fit(x, y_o3)\n",
    "no2 = RandomForestRegressor()\n",
    "no2.fit(x, y_no2)\n",
    "so2 = RandomForestRegressor()\n",
    "so2.fit(x, y_3so2)\n",
    "co = RandomForestRegressor()\n",
    "co.fit(x, y_co)"
   ]
  },
  {
   "cell_type": "markdown",
   "metadata": {},
   "source": [
    "## Test performance of these regressor on the train data \n",
    "\n",
    "This is to check the quality of the regressor to capture our data patterns: we do not need a lot of forecasting, only to complete missing dates. Thus, we do not care about overfitting."
   ]
  },
  {
   "cell_type": "code",
   "execution_count": 106,
   "metadata": {},
   "outputs": [],
   "source": [
    "y_pred = co.predict(x)"
   ]
  },
  {
   "cell_type": "code",
   "execution_count": 113,
   "metadata": {},
   "outputs": [
    {
     "data": {
      "image/png": "[encoded data removed]",
      "text/plain": [
       "<Figure size 432x288 with 1 Axes>"
      ]
     },
     "metadata": {
      "needs_background": "light"
     },
     "output_type": "display_data"
    }
   ],
   "source": [
    "plt.plot(np.abs(y_pred - y_co), 'b') # plotting the absolute difference for each date between true value and predicted value\n",
    "plt.show()"
   ]
  },
  {
   "cell_type": "markdown",
   "metadata": {},
   "source": [
    "# Generalizing model to 5 years of data to predict"
   ]
  },
  {
   "cell_type": "code",
   "execution_count": 96,
   "metadata": {},
   "outputs": [],
   "source": [
    "base = datetime(2020, 8, 1)\n",
    "\n",
    "num_year = 5\n",
    "\n",
    "date_list = [(base - timedelta(days=x)).strftime(\"%d/%m/%Y\") for x in range(365*num_year)]"
   ]
  },
  {
   "cell_type": "markdown",
   "metadata": {},
   "source": [
    "## Making predictions for each air quality criteria"
   ]
  },
  {
   "cell_type": "code",
   "execution_count": 98,
   "metadata": {},
   "outputs": [],
   "source": [
    "matrix_of_val = []\n",
    "\n",
    "for date in date_list:\n",
    "    splitted_date = date.split(\"/\")\n",
    "    \n",
    "    x = [int(splitted_date[0]), int(splitted_date[1]), int(splitted_date[2])-2015]\n",
    "    \n",
    "    y = [\n",
    "        pm25.predict([x])[0],\n",
    "        pm10.predict([x])[0],\n",
    "        o3.predict([x])[0],\n",
    "        no2.predict([x])[0],\n",
    "        so2.predict([x])[0],\n",
    "        co.predict([x])[0]\n",
    "    ]\n",
    "    \n",
    "    row = [date]\n",
    "    row.extend(y)\n",
    "    \n",
    "    matrix_of_val.append(row)"
   ]
  },
  {
   "cell_type": "code",
   "execution_count": 99,
   "metadata": {},
   "outputs": [],
   "source": [
    "df = pd.DataFrame(matrix_of_val, columns=air_quality.columns)"
   ]
  },
  {
   "cell_type": "markdown",
   "metadata": {},
   "source": [
    "## Saving predicted data"
   ]
  },
  {
   "cell_type": "code",
   "execution_count": 114,
   "metadata": {},
   "outputs": [],
   "source": [
    "df.to_csv(\"Data_Files/air_quality/edi_air_quality.csv\")"
   ]
  },
  {
   "cell_type": "code",
   "execution_count": null,
   "metadata": {},
   "outputs": [],
   "source": []
  }
 ],
 "metadata": {
  "kernelspec": {
   "display_name": "Python 3",
   "language": "python",
   "name": "python3"
  },
  "language_info": {
   "codemirror_mode": {
    "name": "ipython",
    "version": 3
   },
   "file_extension": ".py",
   "mimetype": "text/x-python",
   "name": "python",
   "nbconvert_exporter": "python",
   "pygments_lexer": "ipython3",
   "version": "3.7.6"
  },
  "toc": {
   "base_numbering": 1,
   "nav_menu": {},
   "number_sections": true,
   "sideBar": true,
   "skip_h1_title": false,
   "title_cell": "Table of Contents",
   "title_sidebar": "Contents",
   "toc_cell": true,
   "toc_position": {},
   "toc_section_display": true,
   "toc_window_display": false
  }
 },
 "nbformat": 4,
 "nbformat_minor": 4
}
