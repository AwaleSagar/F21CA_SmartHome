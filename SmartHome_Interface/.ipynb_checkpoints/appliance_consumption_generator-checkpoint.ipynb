{
 "cells": [
  {
   "cell_type": "markdown",
   "metadata": {
    "toc": true
   },
   "source": [
    "<h1>Table of Contents<span class=\"tocSkip\"></span></h1>\n",
    "<div class=\"toc\"><ul class=\"toc-item\"><li><span><a href=\"#Loading-appliances-list\" data-toc-modified-id=\"Loading-appliances-list-1\"><span class=\"toc-item-num\">1&nbsp;&nbsp;</span>Loading appliances list</a></span></li><li><span><a href=\"#Creating-generator-functions\" data-toc-modified-id=\"Creating-generator-functions-2\"><span class=\"toc-item-num\">2&nbsp;&nbsp;</span>Creating generator functions</a></span><ul class=\"toc-item\"><li><span><a href=\"#Light-Consumption-Function\" data-toc-modified-id=\"Light-Consumption-Function-2.1\"><span class=\"toc-item-num\">2.1&nbsp;&nbsp;</span>Light Consumption Function</a></span></li><li><span><a href=\"#Heating-consumption-function\" data-toc-modified-id=\"Heating-consumption-function-2.2\"><span class=\"toc-item-num\">2.2&nbsp;&nbsp;</span>Heating consumption function</a></span></li></ul></li></ul></div>"
   ]
  },
  {
   "cell_type": "markdown",
   "metadata": {},
   "source": [
    "Used as a source for energy consumption: [link](https://assets.publishing.service.gov.uk/government/uploads/system/uploads/attachment_data/file/208097/10043_R66141HouseholdElectricitySurveyFinalReportissue4.pdf)"
   ]
  },
  {
   "cell_type": "markdown",
   "metadata": {},
   "source": [
    "## Loading appliances list"
   ]
  },
  {
   "cell_type": "code",
   "execution_count": 7,
   "metadata": {},
   "outputs": [],
   "source": [
    "import pandas as pd\n",
    "import numpy as np\n",
    "from datetime import datetime, timedelta\n",
    "import seaborn as sns\n",
    "import matplotlib.pyplot as plt\n",
    "\n",
    "# We load all the appliances\n",
    "appliances = pd.read_csv(\"Data_Files/dataMapFloat.csv\")"
   ]
  },
  {
   "cell_type": "code",
   "execution_count": 8,
   "metadata": {},
   "outputs": [
    {
     "data": {
      "text/html": [
       "<div>\n",
       "<style scoped>\n",
       "    .dataframe tbody tr th:only-of-type {\n",
       "        vertical-align: middle;\n",
       "    }\n",
       "\n",
       "    .dataframe tbody tr th {\n",
       "        vertical-align: top;\n",
       "    }\n",
       "\n",
       "    .dataframe thead th {\n",
       "        text-align: right;\n",
       "    }\n",
       "</style>\n",
       "<table border=\"1\" class=\"dataframe\">\n",
       "  <thead>\n",
       "    <tr style=\"text-align: right;\">\n",
       "      <th></th>\n",
       "      <th>address</th>\n",
       "      <th>zone</th>\n",
       "      <th>name</th>\n",
       "      <th>value</th>\n",
       "    </tr>\n",
       "  </thead>\n",
       "  <tbody>\n",
       "    <tr>\n",
       "      <th>0</th>\n",
       "      <td>0</td>\n",
       "      <td>A</td>\n",
       "      <td>Lights (Analogue)</td>\n",
       "      <td>0</td>\n",
       "    </tr>\n",
       "    <tr>\n",
       "      <th>1</th>\n",
       "      <td>1</td>\n",
       "      <td>A</td>\n",
       "      <td>Heater (Analogue)</td>\n",
       "      <td>0</td>\n",
       "    </tr>\n",
       "    <tr>\n",
       "      <th>2</th>\n",
       "      <td>11</td>\n",
       "      <td>B</td>\n",
       "      <td>Lights 1 (Analogue)</td>\n",
       "      <td>0</td>\n",
       "    </tr>\n",
       "    <tr>\n",
       "      <th>3</th>\n",
       "      <td>12</td>\n",
       "      <td>B</td>\n",
       "      <td>Lights 2 (Analogue)</td>\n",
       "      <td>0</td>\n",
       "    </tr>\n",
       "    <tr>\n",
       "      <th>4</th>\n",
       "      <td>22</td>\n",
       "      <td>C</td>\n",
       "      <td>Lights (Analogue)</td>\n",
       "      <td>0</td>\n",
       "    </tr>\n",
       "  </tbody>\n",
       "</table>\n",
       "</div>"
      ],
      "text/plain": [
       "   address zone                 name  value\n",
       "0        0    A    Lights (Analogue)      0\n",
       "1        1    A    Heater (Analogue)      0\n",
       "2       11    B  Lights 1 (Analogue)      0\n",
       "3       12    B  Lights 2 (Analogue)      0\n",
       "4       22    C    Lights (Analogue)      0"
      ]
     },
     "execution_count": 8,
     "metadata": {},
     "output_type": "execute_result"
    }
   ],
   "source": [
    "appliances.head()"
   ]
  },
  {
   "cell_type": "code",
   "execution_count": 10,
   "metadata": {},
   "outputs": [
    {
     "data": {
      "text/plain": [
       "(array(['Lights (Analogue)', 'Heater (Analogue)', 'Lights 1 (Analogue)',\n",
       "        'Lights 2 (Analogue)', 'Lights (Analogue)', 'Lights 1 (Analogue)',\n",
       "        'Lights 2 (Analogue)', 'Heater (Analogue)', 'Lights (Analogue)',\n",
       "        'Heater (Analogue)', 'Lights 1 (Analogue)', 'Lights 2 (Analogue)',\n",
       "        'Lights (Analogue)', 'Heater 1 (Analogue)', 'Heater 2 (Analogue)',\n",
       "        'Lights (Analogue)', 'Heater (Analogue)', 'Lights 1 (Analogue)',\n",
       "        'Lights 2 (Analogue)', 'Heater (Analogue)', 'Lights (Analogue)',\n",
       "        'Heater (Analogue)', 'Lights (Analogue)', 'Heater (Analogue)',\n",
       "        'Lights (Analogue)', 'Heater (Analogue)', 'Lights (Analogue)',\n",
       "        'Heater (Analogue)', 'Lights 1 (Analogue)', 'Lights 2 (Analogue)',\n",
       "        'Lights 3 (Analogue)', 'Heater (Analogue)',\n",
       "        'Lights Poarch 1 (Analogue)', 'Lights Poarch 2 (Analogue)',\n",
       "        'Lights Pool (Analogue)', 'Lights Garden (Analogue)',\n",
       "        'Lights Entrance (Analogue)'], dtype=object),\n",
       " array([  0,   1,  11,  12,  22,  32,  33,  34,  44,  45,  55,  56,  66,\n",
       "         67,  68,  78,  79,  89,  90,  91, 101, 102, 112, 113, 123, 124,\n",
       "        134, 135, 145, 146, 147, 148, 158, 159, 160, 161, 162], dtype=int64))"
      ]
     },
     "execution_count": 10,
     "metadata": {},
     "output_type": "execute_result"
    }
   ],
   "source": [
    "list_appliances = appliances.name.to_numpy()\n",
    "appliances_address = appliances.address.to_numpy()\n",
    "list_appliances, appliances_address"
   ]
  },
  {
   "cell_type": "code",
   "execution_count": null,
   "metadata": {},
   "outputs": [],
   "source": [
    "def hour_rounder(t):\n",
    "    \"\"\"\n",
    "        Rounds to nearest hour by adding a timedelta hour if minute >= 30\n",
    "    \"\"\"\n",
    "    return (t.replace(second=0, microsecond=0, minute=0, hour=t.hour)\n",
    "               +timedelta(hours=t.minute//30))"
   ]
  },
  {
   "cell_type": "markdown",
   "metadata": {},
   "source": [
    "## Creating generator functions\n",
    "### Light Consumption Function"
   ]
  },
  {
   "cell_type": "code",
   "execution_count": null,
   "metadata": {},
   "outputs": [],
   "source": [
    "def generates_random_consumption_light(timestamps, watts=16):\n",
    "    \"\"\"\n",
    "        Generates random light consumption until a given date.\n",
    "        \n",
    "        Input:\n",
    "            - timestamps: list of timestamps at which we generate a value\n",
    "            - watts: the wattage of the lightbulb (defaults: 16 for a LED, other values may include 100 for an incandescent, and 25 for a CFL)\n",
    "        Output:\n",
    "            - array of object with timestamps and the associated value\n",
    "    \"\"\"\n",
    "    \n",
    "    \n",
    "    res = []\n",
    "        \n",
    "    for timestamp in timestamps:\n",
    "        \n",
    "        tmp_date = datetime.fromtimestamp(timestamp)\n",
    "        \n",
    "        # during the day, having a turned on light bulb is very unlikely\n",
    "        if tmp_date.hour > 10 or tmp_date.hour < 17:\n",
    "            prob = 0.2\n",
    "        \n",
    "        # during the night, having a turned on light bulb is unlikely\n",
    "        elif tmp_date.hour > 22 or tmp_date.hour < 6:\n",
    "            prob = 0.4\n",
    "            \n",
    "        # during the evening and early morning, having a turned on light bulb is very likely\n",
    "        else:\n",
    "            prob = 0.9\n",
    "        \n",
    "        val = np.random.normal(prob*watts, np.sqrt(watts), 1)[0]\n",
    "        \n",
    "        res.append(\n",
    "            val if val > 0 else 0\n",
    "        )\n",
    "    \n",
    "        tmp_date = tmp_date - timedelta(hours = 1)\n",
    "    \n",
    "    return res"
   ]
  },
  {
   "cell_type": "markdown",
   "metadata": {},
   "source": [
    "Seasonality effect function:\n",
    "$ y = \\dfrac{(x-27)^{2}}{240} $\n",
    "\n",
    "Check the curve in the next cell"
   ]
  },
  {
   "cell_type": "code",
   "execution_count": null,
   "metadata": {},
   "outputs": [],
   "source": [
    "def seasonality_effect_function(x):\n",
    "    return ((x-27)**2)/240\n",
    "\n",
    "x = np.arange(0,52,0.1)\n",
    "y = [seasonality_effect_function(x_val) for x_val in x]\n",
    "\n",
    "plt.figure(figsize=(15,8))\n",
    "ax = sns.lineplot(x,y)\n",
    "ax.set(xlabel='Week Number (starting from january)', ylabel='Energy consumption factor')\n",
    "plt.show()"
   ]
  },
  {
   "cell_type": "markdown",
   "metadata": {},
   "source": [
    "### Heating consumption function"
   ]
  },
  {
   "cell_type": "code",
   "execution_count": null,
   "metadata": {},
   "outputs": [],
   "source": [
    "seasonality_effect_factor = [seasonality_effect_function(x) for x in range(52)] # we generate a factor for every week of the year\n",
    "\n",
    "def seasonality_effect(date):\n",
    "    week_number = date.isocalendar()[1]\n",
    "    return seasonality_effect_factor[week_number-1]\n",
    "\n",
    "def generates_random_consumption_heater(timestamps, watts=16):\n",
    "    \"\"\"\n",
    "        Generates random heat consumption until a given date. \n",
    "        To model seasonality effect on the consumption, we use a polynomial function to transform our mean \n",
    "        \n",
    "        Input:\n",
    "            - timestamps: list of timestamps at which we generate a value\n",
    "            - watts: the wattage of the lightbulb (defaults: 16 for a LED, other values may include 100 for an incandescent, and 25 for a CFL)\n",
    "        Output:\n",
    "            - array of object with timestamps and the associated value\n",
    "    \"\"\"\n",
    "        \n",
    "    res = []\n",
    "        \n",
    "    for timestamp in timestamps:\n",
    "        \n",
    "        tmp_date = datetime.fromtimestamp(timestamp)\n",
    "        \n",
    "        # during the day, having a turned on light bulb is very unlikely\n",
    "        if tmp_date.hour > 10 or tmp_date.hour < 17:\n",
    "            prob = 0.2\n",
    "        \n",
    "        # during the night, having a turned on light bulb is unlikely\n",
    "        elif tmp_date.hour > 22 or tmp_date.hour < 6:\n",
    "            prob = 0.4\n",
    "            \n",
    "        # during the evening and early morning, having a turned on light bulb is very likely\n",
    "        else:\n",
    "            prob = 0.9\n",
    "        \n",
    "        val = np.random.normal(prob*seasonality_effect(tmp_date)*watts, np.sqrt(watts), 1)[0]\n",
    "        \n",
    "        res.append(\n",
    "            val if val > 0 else 0\n",
    "        )\n",
    "                \n",
    "    return res"
   ]
  },
  {
   "cell_type": "code",
   "execution_count": null,
   "metadata": {},
   "outputs": [],
   "source": [
    "def generates_consumption(appliances, adresses):\n",
    "    \n",
    "    now = hour_rounder(datetime.now())\n",
    "    limit = now - timedelta(days = 365)\n",
    "    \n",
    "    # we first generates all timestamps\n",
    "    timestamps = [\n",
    "        \n",
    "    ]\n",
    "    \n",
    "    # from now until the end date, set at one year from now\n",
    "    while now >= limit:\n",
    "        timestamps.append(datetime.timestamp(now))\n",
    "        now = now - timedelta(hours = 1) #generating a timestamp for every hour\n",
    "    \n",
    "    res = []\n",
    "    \n",
    "    for idx, appliance in enumerate(appliances):\n",
    "        \n",
    "        if \"light\" in appliance.lower():\n",
    "            #its a light\n",
    "            \n",
    "            res.append({\n",
    "                \"address\": adresses[idx],\n",
    "                \"appliance\":appliance,\n",
    "                \"values\":generates_random_consumption_light(timestamps)\n",
    "            })\n",
    "            \n",
    "        else:\n",
    "            #its a heater\n",
    "            \n",
    "            res.append({\n",
    "                \"address\": adresses[idx],\n",
    "                \"appliance\":appliance,\n",
    "                \"values\":generates_random_consumption_heater(timestamps)\n",
    "            })\n",
    "    \n",
    "    return timestamps, res\n",
    "\n",
    "timestamps, cons = generates_consumption(list_appliances, appliances_address)"
   ]
  },
  {
   "cell_type": "code",
   "execution_count": null,
   "metadata": {},
   "outputs": [],
   "source": [
    "pd.Series(timestamps).to_csv(\"Data_Files/energy_consumption/timestamps.csv\", header=[\"Timestamps\"])"
   ]
  },
  {
   "cell_type": "code",
   "execution_count": null,
   "metadata": {},
   "outputs": [],
   "source": [
    "len(timestamps)"
   ]
  },
  {
   "cell_type": "code",
   "execution_count": null,
   "metadata": {},
   "outputs": [],
   "source": [
    "pd.DataFrame(cons).to_pickle(\"Data_Files/energy_consumption/energy_consumption.pkl\")\n"
   ]
  },
  {
   "cell_type": "code",
   "execution_count": null,
   "metadata": {},
   "outputs": [],
   "source": [
    "len(timestamps)/365"
   ]
  },
  {
   "cell_type": "code",
   "execution_count": null,
   "metadata": {},
   "outputs": [],
   "source": [
    "len(pd.DataFrame(cons).iloc[0][\"values\"])"
   ]
  },
  {
   "cell_type": "code",
   "execution_count": null,
   "metadata": {},
   "outputs": [],
   "source": [
    "pd.DataFrame(cons).head()"
   ]
  }
 ],
 "metadata": {
  "kernelspec": {
   "display_name": "Python 3",
   "language": "python",
   "name": "python3"
  },
  "language_info": {
   "codemirror_mode": {
    "name": "ipython",
    "version": 3
   },
   "file_extension": ".py",
   "mimetype": "text/x-python",
   "name": "python",
   "nbconvert_exporter": "python",
   "pygments_lexer": "ipython3",
   "version": "3.7.6"
  },
  "toc": {
   "base_numbering": 1,
   "nav_menu": {},
   "number_sections": true,
   "sideBar": true,
   "skip_h1_title": false,
   "title_cell": "Table of Contents",
   "title_sidebar": "Contents",
   "toc_cell": true,
   "toc_position": {},
   "toc_section_display": true,
   "toc_window_display": false
  }
 },
 "nbformat": 4,
 "nbformat_minor": 4
}
